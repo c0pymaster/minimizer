{
 "cells": [
  {
   "cell_type": "code",
   "execution_count": 1,
   "metadata": {},
   "outputs": [],
   "source": [
    "# interval arithmetics are used to take into account the numerical errors\n",
    "R = RIF\n",
    "\n",
    "var('x a')\n",
    "\n",
    "o = 6              # the order of polynomial approximations;\n",
    "assert(o % 2 == 0) # should be even to ensure that the bounds on the remainders\n",
    "                   # in the Taylor approximations below are correct\n",
    "\n",
    "maxx = 1 / 30 # alpha = 11 * pi / 24 + x, where -maxx <= x <= maxx\n",
    "\n",
    "# cleaner print\n",
    "def myprint(e):\n",
    "    print(*e, sep='\\n')\n",
    "\n",
    "# return the polynomial with the coefficients evaluated\n",
    "def eval(p):\n",
    "    return sum([R(a) * x ^ b for a, b in p.coefficients()])\n",
    "\n",
    "# get the polynomial without the constant coefficient\n",
    "def center(p):\n",
    "    return sum([a * x ^ b for a, b in p.coefficients() if b > 0])\n",
    "\n",
    "# get the constant coefficient of the polynomial\n",
    "def const(p):\n",
    "    return R(p.coefficient(x, n=0))\n",
    "\n",
    "# given polynomials p[0], p[1], such that p[0](x) <= p[1](x) on [-maxx, maxx],\n",
    "# and even number newd, return polynomials np[0], np[1] of degree <= newd,\n",
    "# such that np[0](x) <= p[0](x) <= p[1](x) <= np[1](x) on [-maxx, maxx]\n",
    "def reduceDegree(p, newd):\n",
    "    assert(newd % 2 == 0)\n",
    "    np = [0, 0]\n",
    "    for k, d in p[0].coefficients():\n",
    "        if d <= newd:\n",
    "            np[0] += k * x ^ d\n",
    "        else:\n",
    "            np[0] += -abs(k) * maxx ^ (d - newd) * x ^ newd\n",
    "    for k, d in p[1].coefficients():\n",
    "        if d <= newd:\n",
    "            np[1] += k * x ^ d\n",
    "        else:\n",
    "            np[1] += abs(k) * maxx ^ (d - newd) * x ^ newd\n",
    "    return np\n",
    "\n",
    "# given polynomial p of degree <= 2, return an array of points,\n",
    "# which contains argmax and argmin of p on [-maxx, maxx]\n",
    "def getInterestingPoints(p):\n",
    "    assert(p.degree(x) <= 2)\n",
    "    if p.degree(x) < 2:\n",
    "        return [-maxx, maxx]\n",
    "    e = -p.coefficient(x, n=1) / (2 * p.coefficient(x, n=2))\n",
    "    if e <= -maxx or maxx <= e: # e is definitely outside [-maxx, maxx]\n",
    "        return [-maxx, maxx]\n",
    "    else:\n",
    "        return [-maxx, e, maxx]\n",
    "\n",
    "# estimation of the analytic function f(x) on the interval [-maxx, maxx]:\n",
    "# contains polynomials p[0], p[1] of order <= o, and real numbers b[0], b[1],\n",
    "# such that b[0] <= p[0](x) <= f(x) <= p[1](x) <= b[1] on [-maxx, maxx]\n",
    "class Estimator:\n",
    "    def __init__(self, p, b=None):\n",
    "        self.p = p\n",
    "        if b == None:\n",
    "            self.getBounds()\n",
    "        else:\n",
    "            self.b = b\n",
    "      \n",
    "    def __add__(self, t):\n",
    "        return Estimator([eval(self.p[0] + t.p[0]), eval(self.p[1] + t.p[1])])\n",
    "    \n",
    "    def __sub__(self, t):\n",
    "        return Estimator([eval(self.p[0] - t.p[1]), eval(self.p[1] - t.p[0])])\n",
    "    \n",
    "    def __neg__(self):\n",
    "        return Estimator([-self.p[1], -self.p[0]])\n",
    "    \n",
    "    # we multiply only estimations for functions with nonnegative values in [-maxx, maxx]\n",
    "    def __mul__(self, t):\n",
    "        assert(self.b[0] >= 0 and t.b[0] >= 0)\n",
    "        res = Estimator([eval(self.p[0] * t.p[0]), eval(self.p[1] * t.p[1])])\n",
    "        res.reduceDegree()\n",
    "        return res\n",
    "    \n",
    "    def split(self):\n",
    "        return [[center(self.p[0]), const(self.p[0])],\n",
    "                [center(self.p[1]), const(self.p[1])]]\n",
    "    \n",
    "    def reduceDegree(self):\n",
    "        self.p = reduceDegree(self.p, o)\n",
    "        self.getBounds()\n",
    "        \n",
    "    def transposed(self):\n",
    "        return Estimator(self.p[::-1], self.b[::-1])\n",
    "    \n",
    "    # print the estimations; bounds b[0] and b[1] are printed in degrees, if inDegs=True\n",
    "    def print(self, inDegs=False):\n",
    "        myprint(self.p)\n",
    "        if inDegs:\n",
    "            print(R(self.b[0] / pi * 180), R(self.b[1] / pi * 180))\n",
    "        else:\n",
    "            print(self.b[0], self.b[1])\n",
    "\n",
    "    # to get bounds b[0], b[1] for polynomials p[0], p[1],\n",
    "    # we obtain polynomials p2[0], p2[1] of degree <= 2, such that\n",
    "    # p2[0](x) <= p[0](x) <= p[1](x) <= p2[1](x) on [-maxx, maxx],\n",
    "    # and explicitly find the minimum of p2[0] and the maximum of p2[1]\n",
    "    def getBounds(self):\n",
    "        p2 = reduceDegree(self.p, 2)\n",
    "        self.b = [None, None]\n",
    "        for c in getInterestingPoints(p2[0]):\n",
    "            val = R(p2[0].subs(x=c))\n",
    "            self.b[0] = val if self.b[0] == None else self.b[0].min(val)\n",
    "        for c in getInterestingPoints(p2[1]):\n",
    "            val = R(p2[1].subs(x=c))\n",
    "            self.b[1] = val if self.b[1] == None else self.b[1].max(val)\n",
    "\n",
    "# get the estimator for a constant function f(x) = C\n",
    "def E(C):\n",
    "    return Estimator([C, C], [C, C])\n",
    "\n",
    "# substitute estimator e into Taylor approximations q[0], q[1]\n",
    "def subs(q, e):\n",
    "    func = lambda q, args : eval(q.subs(x=args[0], a=args[1]))\n",
    "    res = Estimator(list(map(func, q, e.split())))\n",
    "    res.reduceDegree()\n",
    "    return res"
   ]
  },
  {
   "cell_type": "code",
   "execution_count": 2,
   "metadata": {},
   "outputs": [
    {
     "name": "stdout",
     "output_type": "stream",
     "text": [
      "1/120*x^5*cos(a) + 1/24*x^4*sin(a) - 1/6*x^3*cos(a) - 1/2*x^2*sin(a) + x*cos(a) + sin(a)\n",
      "1/720*x^6 + 1/120*x^5*cos(a) + 1/24*x^4*sin(a) - 1/6*x^3*cos(a) - 1/2*x^2*sin(a) + x*cos(a) + sin(a)\n"
     ]
    }
   ],
   "source": [
    "sint = sin(x + a).series(x, o).truncate()\n",
    "sinf = [sint,\n",
    "        sint + x ^ o / factorial(o)]\n",
    "myprint(sinf)\n",
    "\n",
    "# sinf[0](x, a) <= sin(x + a) <= sinf[1](x, a) for 0 < a < pi / 2, 0 < x + a < pi / 2\n",
    "\n",
    "# given estimator e of f(x), return the estimator of sin(f(x))\n",
    "def mysin(e):\n",
    "    if pi / 2 < e.b[0] and e.b[1] < pi: # sin(x) = sin(pi - x)\n",
    "        return mysin(E(pi) - e)\n",
    "    assert(0 < e.b[0] and e.b[1] < pi / 2)\n",
    "    res = subs(sinf, e)\n",
    "    return res"
   ]
  },
  {
   "cell_type": "code",
   "execution_count": 3,
   "metadata": {},
   "outputs": [
    {
     "name": "stdout",
     "output_type": "stream",
     "text": [
      "-1/120*x^5*sin(a) + 1/24*x^4*cos(a) + 1/6*x^3*sin(a) - 1/2*x^2*cos(a) - x*sin(a) + cos(a)\n",
      "1/720*x^6 - 1/120*x^5*sin(a) + 1/24*x^4*cos(a) + 1/6*x^3*sin(a) - 1/2*x^2*cos(a) - x*sin(a) + cos(a)\n"
     ]
    }
   ],
   "source": [
    "cost = cos(x + a).series(x, o).truncate()\n",
    "cosf = [cost,\n",
    "        cost + x ^ o / factorial(o)]\n",
    "myprint(cosf)\n",
    "\n",
    "# cosf[0](x, a) <= cos(x + a) <= cosf[1](x, a) for 0 < a < pi / 2, 0 < x + a < pi / 2\n",
    "\n",
    "# given estimator e of f(x), return the estimator of cos(f(x))\n",
    "def mycos(e):\n",
    "    if pi / 2 < e.b[0] and e.b[1] < pi: # cos(x) = -cos(pi - x)\n",
    "        return -mycos(E(pi) - e)\n",
    "    assert(0 < e.b[0] and e.b[1] < pi / 2)\n",
    "    res = subs(cosf, e.transposed()) # cos is decreasing on (0, pi / 2)\n",
    "    return res"
   ]
  },
  {
   "cell_type": "code",
   "execution_count": 4,
   "metadata": {},
   "outputs": [
    {
     "name": "stdout",
     "output_type": "stream",
     "text": [
      "-174355808000000/1870414552161*sqrt(111)*x^6 - 1/40*x^5*(35*a^4/(-a^2 + 1)^(9/2) + 30*a^2/(-a^2 + 1)^(7/2) + 3/(-a^2 + 1)^(5/2)) - 1/8*x^4*(5*a^3/(-a^2 + 1)^(7/2) + 3*a/(-a^2 + 1)^(5/2)) - 1/6*x^3*(3*a^2/(-a^2 + 1)^(5/2) + 1/(-a^2 + 1)^(3/2)) - 1/2*a*x^2/(-a^2 + 1)^(3/2) - x/sqrt(-a^2 + 1) + arccos(a)\n",
      "-1/40*x^5*(35*a^4/(-a^2 + 1)^(9/2) + 30*a^2/(-a^2 + 1)^(7/2) + 3/(-a^2 + 1)^(5/2)) - 1/8*x^4*(5*a^3/(-a^2 + 1)^(7/2) + 3*a/(-a^2 + 1)^(5/2)) - 1/6*x^3*(3*a^2/(-a^2 + 1)^(5/2) + 1/(-a^2 + 1)^(3/2)) - 1/2*a*x^2/(-a^2 + 1)^(3/2) - x/sqrt(-a^2 + 1) + arccos(a)\n"
     ]
    }
   ],
   "source": [
    "acost = acos(x + a).series(x, o).truncate()\n",
    "acosd = acos(x).derivative(x, o)\n",
    "acosb = 85 / 100\n",
    "acosf = [acost - x ^ o * abs(acosd.subs(x=acosb)) / factorial(o),\n",
    "         acost]\n",
    "myprint(acosf)\n",
    "\n",
    "# acosf[0](x, a) <= acos(x + a) <= acosf[1](x, a) for 0 < a < acosb, 0 < x + a < acosb\n",
    "\n",
    "# given estimator e of f(x), return the estimator of acos(f(x))\n",
    "def myacos(e):\n",
    "    assert(0 < e.b[0] and e.b[1] < acosb)\n",
    "    res = subs(acosf, e.transposed()) # acos is decreasing\n",
    "    return res"
   ]
  },
  {
   "cell_type": "code",
   "execution_count": 5,
   "metadata": {},
   "outputs": [
    {
     "name": "stdout",
     "output_type": "stream",
     "text": [
      "1/a - x/a^2 + x^2/a^3 - x^3/a^4 + x^4/a^5 - x^5/a^6\n",
      "78125/128*x^6 + 1/a - x/a^2 + x^2/a^3 - x^3/a^4 + x^4/a^5 - x^5/a^6\n"
     ]
    }
   ],
   "source": [
    "invt = (1 / (x + a)).series(x, o).truncate()\n",
    "invd = (1 / x).derivative(x, o)\n",
    "invb = 4 / 10\n",
    "invf = [invt,\n",
    "        invt + x ^ o * abs(invd.subs(x=invb)) / factorial(o)]\n",
    "myprint(invf)\n",
    "\n",
    "# invf[0](x, a) <= 1 / (x + a) <= invf[1](x, a) for invb < a, invb < x + a < 2 * a\n",
    "\n",
    "# given estimator e of f(x), return the estimator of 1 / f(x)\n",
    "def myinv(e):\n",
    "    assert(invb < e.b[0] and e.b[1] < 2 * const(e.p[0]).min(const(e.p[1])))\n",
    "    res = subs(invf, e.transposed()) # 1 / x is decreasing when x > 0\n",
    "    return res"
   ]
  },
  {
   "cell_type": "code",
   "execution_count": 6,
   "metadata": {},
   "outputs": [
    {
     "name": "stdout",
     "output_type": "stream",
     "text": [
      "1/a - x/a^2 + x^2/a^3 - x^3/a^4 + x^4/a^5 - x^5/a^6\n",
      "78125/279936*x^6 + 1/a - x/a^2 + x^2/a^3 - x^3/a^4 + x^4/a^5 - x^5/a^6\n"
     ]
    }
   ],
   "source": [
    "inv2t = (1 / (x + a)).series(x, o).truncate()\n",
    "inv2d = (1 / x).derivative(x, o)\n",
    "inv2b = 12 / 10\n",
    "inv2f = [inv2t,\n",
    "        inv2t + x ^ o * abs(inv2d.subs(x=inv2b)) / factorial(o)]\n",
    "myprint(inv2f)\n",
    "\n",
    "# inv2f[0](x, a) <= 1 / (x + a) <= inv2f[1](x, a) for inv2b < a, inv2b < x + a < 2 * a\n",
    "\n",
    "# given estimator e of f(x), return the estimator of 1 / f(x)\n",
    "def myinv2(e):\n",
    "    assert(inv2b < e.b[0] and e.b[1] < 2 * const(e.p[0]).min(const(e.p[1])))\n",
    "    res = subs(inv2f, e.transposed()) # 1 / x is decreasing when x > 0\n",
    "    return res"
   ]
  },
  {
   "cell_type": "code",
   "execution_count": 7,
   "metadata": {},
   "outputs": [
    {
     "name": "stdout",
     "output_type": "stream",
     "text": [
      "-7/3888*sqrt(3/2)*x^6 + sqrt(a) + 1/2*x/sqrt(a) - 1/8*x^2/a^(3/2) + 1/16*x^3/a^(5/2) - 5/128*x^4/a^(7/2) + 7/256*x^5/a^(9/2)\n",
      "sqrt(a) + 1/2*x/sqrt(a) - 1/8*x^2/a^(3/2) + 1/16*x^3/a^(5/2) - 5/128*x^4/a^(7/2) + 7/256*x^5/a^(9/2)\n"
     ]
    }
   ],
   "source": [
    "sqrtt = sqrt(x + a).series(x, o).truncate()\n",
    "sqrtd = sqrt(x).derivative(x, o)\n",
    "sqrtb = 15 / 10\n",
    "sqrtf = [sqrtt - x ^ o * abs(sqrtd.subs(x=sqrtb)) / factorial(o),\n",
    "        sqrtt]\n",
    "myprint(sqrtf)\n",
    "\n",
    "# sqrtf[0](x, a) <= sqrt(x + a) <= sqrtf[1](x, a) for sqrtb < a, sqrtb < x + a < 2 * a\n",
    "\n",
    "def mysqrt(e):\n",
    "    assert(sqrtb < e.b[0] and e.b[1] < 2 * const(e.p[0]).min(const(e.p[1])))\n",
    "    res = subs(sqrtf, e)\n",
    "    return res"
   ]
  },
  {
   "cell_type": "code",
   "execution_count": 8,
   "metadata": {},
   "outputs": [
    {
     "name": "stdout",
     "output_type": "stream",
     "text": [
      "x\n",
      "x\n",
      "-0.03333333333333334? 0.03333333333333334?\n"
     ]
    }
   ],
   "source": [
    "dalpha = Estimator([x, x])\n",
    "dalpha.print()"
   ]
  },
  {
   "cell_type": "code",
   "execution_count": 9,
   "metadata": {},
   "outputs": [
    {
     "name": "stdout",
     "output_type": "stream",
     "text": [
      "1*x + 1.439896632895322?\n",
      "1*x + 1.439896632895322?\n",
      "80.5901406828973? 84.4098593171028?\n"
     ]
    }
   ],
   "source": [
    "alpha = E(11 * pi / 24) + dalpha\n",
    "alpha.print(inDegs=True)"
   ]
  },
  {
   "cell_type": "code",
   "execution_count": 10,
   "metadata": {},
   "outputs": [
    {
     "name": "stdout",
     "output_type": "stream",
     "text": [
      "-27155.407732377?*x^6 - 254.52788054163?*x^5 - 47.46570482625?*x^4 - 9.514635993752?*x^3 - 2.6714163401324?*x^2 - 0.43887712637302?*x + 1.54608148543621?\n",
      "-172.09609761616?*x^6 - 254.52788054163?*x^5 - 47.46570482625?*x^4 - 9.514635993752?*x^3 - 2.6714163401324?*x^2 - 0.43887712637302?*x + 1.54608148543621?\n",
      "87.549400068237? 89.276231682630?\n"
     ]
    }
   ],
   "source": [
    "q = alpha - E(pi / 12) + myacos(E(1) - mysin(E(2) * alpha)) * E(1 / 2)\n",
    "q.print(inDegs=True)"
   ]
  },
  {
   "cell_type": "code",
   "execution_count": 11,
   "metadata": {},
   "outputs": [
    {
     "name": "stdout",
     "output_type": "stream",
     "text": [
      "172.09609761616?*x^6 + 254.52788054163?*x^5 + 47.46570482625?*x^4 + 9.514635993752?*x^3 + 2.6714163401324?*x^2 + 2.43887712637302?*x + 0.810113004756141?\n",
      "27155.407732377?*x^6 + 254.52788054163?*x^5 + 47.46570482625?*x^4 + 9.514635993752?*x^3 + 2.6714163401324?*x^2 + 2.43887712637302?*x + 0.810113004756141?\n",
      "41.9040496831646? 51.270318565969?\n"
     ]
    }
   ],
   "source": [
    "gamma = alpha - E(pi / 12) - myacos(E(1) - mysin(E(2) * alpha)) * E(1 / 2)\n",
    "gamma.print(inDegs=True)"
   ]
  },
  {
   "cell_type": "code",
   "execution_count": 12,
   "metadata": {},
   "outputs": [
    {
     "name": "stdout",
     "output_type": "stream",
     "text": [
      "-506030.0297091?*x^6 + 1013.996707978?*x^5 + 0.7770005651?*x^4 + 39.18325634813?*x^3 - 0.174598201652?*x^2 + 3.7393664881860?*x + 0.78783798555390?\n",
      "75052.11762651?*x^6 + 1013.996707978?*x^5 + 0.7770005651?*x^4 + 39.18325634813?*x^3 - 0.174598201652?*x^2 + 3.7393664881860?*x + 0.78783798555390?\n",
      "37.861645603699? 52.361834163985?\n"
     ]
    }
   ],
   "source": [
    "t = myacos(E(1) + mycos(E(2) * alpha) - mycos(E(2 * pi / 3) - E(2) * alpha + E(2) * q))\n",
    "t.print(inDegs=True)"
   ]
  },
  {
   "cell_type": "code",
   "execution_count": 13,
   "metadata": {},
   "outputs": [
    {
     "name": "stdout",
     "output_type": "stream",
     "text": [
      "-64681.46654563?*x^6 - 761.526234531?*x^5 - 47.8542051088?*x^4 - 29.10626416782?*x^3 - 2.584117239307?*x^2 - 3.3085603704661?*x + 0.75946341096053?\n",
      "252842.9187570?*x^6 - 761.526234531?*x^5 - 47.8542051088?*x^4 - 29.10626416782?*x^3 - 2.584117239307?*x^2 - 3.3085603704661?*x + 0.75946341096053?\n",
      "36.958623669142? 49.755241146086?\n"
     ]
    }
   ],
   "source": [
    "delta = E(pi / 3) - alpha + q - t * E(1 / 2)\n",
    "delta.print(inDegs=True)"
   ]
  },
  {
   "cell_type": "code",
   "execution_count": 14,
   "metadata": {},
   "outputs": [
    {
     "name": "stdout",
     "output_type": "stream",
     "text": [
      "-127978.3951578?*x^6 - 8610.57171075?*x^5 + 1253.002476752?*x^4 - 188.4302943537?*x^3 + 29.35993515758?*x^2 - 5.234000842793?*x + 1.41038635842902?\n",
      "1.493309532426?e6*x^6 - 8610.57171075?*x^5 + 1253.002476752?*x^4 - 188.4302943537?*x^3 + 29.35993515758?*x^2 - 5.234000842793?*x + 1.41038635842902?\n",
      "1.2594860995466? 1.6284037998802?\n"
     ]
    }
   ],
   "source": [
    "X = mysin(t + delta) * myinv(mysin(t))\n",
    "X.print()"
   ]
  },
  {
   "cell_type": "code",
   "execution_count": 15,
   "metadata": {},
   "outputs": [
    {
     "name": "stdout",
     "output_type": "stream",
     "text": [
      "-1.226517318686?e6*x^6 + 4039.27658238?*x^5 - 610.320050998?*x^4 + 85.2981754027?*x^3 - 12.40404986602?*x^2 + 1.418839628481?*x + 0.9783646196016?\n",
      "288675.3260633?*x^6 + 4039.27658238?*x^5 - 610.320050998?*x^4 + 85.2981754027?*x^3 - 12.40404986602?*x^2 + 1.418839628481?*x + 0.9783646196016?\n",
      "0.9115263236325? 1.0163518829568?\n"
     ]
    }
   ],
   "source": [
    "YnumR = E(1) - mysin(delta) * mysin(gamma) * mycos(t) * myinv(mysin(t)) + mysin(delta) * mycos(gamma)\n",
    "YnumR.print()"
   ]
  },
  {
   "cell_type": "code",
   "execution_count": 16,
   "metadata": {
    "scrolled": true
   },
   "outputs": [
    {
     "name": "stdout",
     "output_type": "stream",
     "text": [
      "-1.478839636912?e6*x^6 + 1982.41887176?*x^5 - 278.119705903?*x^4 + 41.8227133488?*x^3 - 7.55714640801?*x^2 + 2.440058751547?*x + 0.6910928992730?\n",
      "742117.107953?*x^6 + 1982.41887176?*x^5 - 278.119705903?*x^4 + 41.8227133488?*x^3 - 7.55714640801?*x^2 + 2.440058751547?*x + 0.6910928992730?\n",
      "0.5973582635366? 0.7670232830068?\n"
     ]
    }
   ],
   "source": [
    "Ynum = mycos(t + E(2) * delta - E(pi / 2)) * YnumR - (mysin(delta) + mycos(gamma)) * mycos(q)\n",
    "Ynum.print()"
   ]
  },
  {
   "cell_type": "code",
   "execution_count": 17,
   "metadata": {},
   "outputs": [
    {
     "name": "stdout",
     "output_type": "stream",
     "text": [
      "-372107.2541170?*x^6 - 525.210414727?*x^5 - 99.6633439532?*x^4 - 26.10972118283?*x^3 - 8.678171551256?*x^2 - 0.416290559252?*x + 0.48627011420287?\n",
      "357185.2182065?*x^6 - 525.210414727?*x^5 - 99.6633439532?*x^4 - 26.10972118283?*x^3 - 8.678171551256?*x^2 - 0.416290559252?*x + 0.48627011420287?\n",
      "0.4611292327291? 0.4922568933096?\n"
     ]
    }
   ],
   "source": [
    "Yden = mycos(t + E(2) * delta - E(pi / 2)) * mycos(gamma) - mycos(q)\n",
    "Yden.print()"
   ]
  },
  {
   "cell_type": "code",
   "execution_count": 18,
   "metadata": {},
   "outputs": [
    {
     "name": "stdout",
     "output_type": "stream",
     "text": [
      "-4.427501585099?e6*x^6 + 13305.6283477?*x^5 + 569.96861820?*x^4 + 286.560732030?*x^3 + 15.1598389616?*x^2 + 6.234592219888?*x + 1.4212119541952?\n",
      "3.010010143866?e6*x^6 + 13305.6283477?*x^5 + 569.96861820?*x^4 + 286.560732030?*x^3 + 15.1598389616?*x^2 + 6.234592219888?*x + 1.4212119541952?\n",
      "1.212298506540? 1.661869500173?\n"
     ]
    }
   ],
   "source": [
    "Y = Ynum * myinv(Yden)\n",
    "Y.print()"
   ]
  },
  {
   "cell_type": "code",
   "execution_count": 19,
   "metadata": {},
   "outputs": [
    {
     "name": "stdout",
     "output_type": "stream",
     "text": [
      "-135589.7431848?*x^6 - 9085.96330833?*x^5 + 1166.470182827?*x^4 - 205.3491065340?*x^3 + 25.04630378219?*x^2 - 6.999603936817?*x + 0.9713648040743?\n",
      "1.476701026516?e6*x^6 - 9085.96330833?*x^5 + 1166.470182827?*x^4 - 205.3491065340?*x^3 + 25.04630378219?*x^2 - 6.999603936817?*x + 0.9713648040743?\n",
      "0.7562683880462? 1.2439593317765?\n"
     ]
    }
   ],
   "source": [
    "AQ1 = mysin(delta) * myinv(mysin(t))\n",
    "AQ1.print()"
   ]
  },
  {
   "cell_type": "code",
   "execution_count": 20,
   "metadata": {},
   "outputs": [
    {
     "name": "stdout",
     "output_type": "stream",
     "text": [
      "-1*x + 1.439896632895322?\n",
      "-1*x + 1.439896632895322?\n",
      "80.5901406828973? 84.409859317103?\n"
     ]
    }
   ],
   "source": [
    "beta = (E(11 * pi / 12) - alpha)\n",
    "beta.print(inDegs=True)"
   ]
  },
  {
   "cell_type": "code",
   "execution_count": 21,
   "metadata": {},
   "outputs": [
    {
     "name": "stdout",
     "output_type": "stream",
     "text": [
      "-127978.3951578?*x^6 - 8610.57997279?*x^5 + 1253.007915343?*x^4 - 188.2650535434?*x^3 + 29.29467206147?*x^2 - 6.225445704167?*x + 1.54091255064907?\n",
      "1.493309533815?e6*x^6 - 8610.57997279?*x^5 + 1253.007915343?*x^4 - 188.2650535434?*x^3 + 29.29467206147?*x^2 - 6.225445704167?*x + 1.54091255064907?\n",
      "1.3568977281453? 1.7918995266210?\n"
     ]
    }
   ],
   "source": [
    "W1x = X + mycos(alpha)\n",
    "W1x.print()"
   ]
  },
  {
   "cell_type": "code",
   "execution_count": 22,
   "metadata": {},
   "outputs": [
    {
     "name": "stdout",
     "output_type": "stream",
     "text": [
      "0.00108771826850043?*x^5 + 0.0413102025572421?*x^4 - 0.0217543653700086?*x^3 - 0.4957224306869052?*x^2 + 0.130526192220052?*x + 0.9914448613738104?\n",
      "0.001388888888888889?*x^6 + 0.00108771826850043?*x^5 + 0.0413102025572421?*x^4 - 0.0217543653700086?*x^3 - 0.4957224306869052?*x^2 + 0.130526192220052?*x + 0.9914448613738104?\n",
      "0.986542328836798? 0.995245788511202?\n"
     ]
    }
   ],
   "source": [
    "W1y = mysin(alpha)\n",
    "W1y.print()"
   ]
  },
  {
   "cell_type": "code",
   "execution_count": 23,
   "metadata": {},
   "outputs": [
    {
     "name": "stdout",
     "output_type": "stream",
     "text": [
      "-0.00108771826850043?*x^5 + 0.0413102025572421?*x^4 + 0.021754365370009?*x^3 - 0.495722430686906?*x^2 - 0.13052619222006?*x + 0.991444861373811?\n",
      "0.001388888888888889?*x^6 - 0.00108771826850043?*x^5 + 0.0413102025572421?*x^4 + 0.021754365370009?*x^3 - 0.495722430686906?*x^2 - 0.13052619222006?*x + 0.991444861373811?\n",
      "0.986542328836798? 0.995245788511202?\n"
     ]
    }
   ],
   "source": [
    "W2x = mysin(beta)\n",
    "W2x.print()"
   ]
  },
  {
   "cell_type": "code",
   "execution_count": 24,
   "metadata": {},
   "outputs": [
    {
     "name": "stdout",
     "output_type": "stream",
     "text": [
      "-4.427501585099?e6*x^6 + 13305.6366097?*x^5 + 569.97405679?*x^4 + 286.395491220?*x^3 + 15.0945758654?*x^2 + 7.22603708127?*x + 1.5517381464153?\n",
      "3.010010145255?e6*x^6 + 13305.6366097?*x^5 + 569.97405679?*x^4 + 286.395491220?*x^3 + 15.0945758654?*x^2 + 7.22603708127?*x + 1.5517381464153?\n",
      "1.309710135138? 1.825365226914?\n"
     ]
    }
   ],
   "source": [
    "W2y = Y + mycos(beta)\n",
    "W2y.print()"
   ]
  },
  {
   "cell_type": "code",
   "execution_count": 25,
   "metadata": {},
   "outputs": [
    {
     "name": "stdout",
     "output_type": "stream",
     "text": [
      "-3.898318047468?e6*x^6 + 7217.7278453?*x^5 + 1120.10084977?*x^4 + 153.922961170?*x^3 + 27.9010691924?*x^2 + 2.966906734546?*x + 1.7514069244272?\n",
      "3.353400019736?e6*x^6 + 7217.7278453?*x^5 + 1120.10084977?*x^4 + 153.922961170?*x^3 + 27.9010691924?*x^2 + 2.966906734546?*x + 1.7514069244272?\n",
      "1.670783017428? 1.893285720404?\n"
     ]
    }
   ],
   "source": [
    "Sx = W2x + (W1x - W2x) * E(cos(pi / 3)) + (W2y - W1y) * E(sin(pi / 3))\n",
    "Sx.print()"
   ]
  },
  {
   "cell_type": "code",
   "execution_count": 26,
   "metadata": {},
   "outputs": [
    {
     "name": "stdout",
     "output_type": "stream",
     "text": [
      "-6.04333920028?e6*x^6 - 804.1612071?*x^5 + 1370.10859364?*x^4 - 19.874290420?*x^3 + 33.0986651364?*x^2 - 1.60007349463?*x + 1.747444481366?\n",
      "6.51700493050?e6*x^6 - 804.1612071?*x^5 + 1370.10859364?*x^4 - 19.874290420?*x^3 + 33.0986651364?*x^2 - 1.60007349463?*x + 1.747444481366?\n",
      "1.720134419952? 1.848956879202?\n"
     ]
    }
   ],
   "source": [
    "Sy = W2y + (W1x - W2x) * E(sin(pi / 3)) - (W2y - W1y) * E(cos(pi / 3))\n",
    "Sy.print()"
   ]
  },
  {
   "cell_type": "code",
   "execution_count": 27,
   "metadata": {},
   "outputs": [
    {
     "name": "stdout",
     "output_type": "stream",
     "text": [
      "-636.2680142048?*x^6 + 52.8756859653?*x^5 + 8.920484547049?*x^4 + 0.173259425519?*x^3 - 0.3125871030764?*x^2 + 1.68140232909918?*x + 0.724365086347651?\n",
      "19817.879824491?*x^6 + 52.8756859653?*x^5 + 8.920484547049?*x^4 + 0.173259425519?*x^3 - 0.3125871030764?*x^2 + 1.68140232909918?*x + 0.724365086347651?\n",
      "0.66795054433150? 0.78011130258168?\n"
     ]
    }
   ],
   "source": [
    "Q2x = mysin(gamma)\n",
    "Q2x.print()"
   ]
  },
  {
   "cell_type": "code",
   "execution_count": 28,
   "metadata": {},
   "outputs": [
    {
     "name": "stdout",
     "output_type": "stream",
     "text": [
      "-4.427003479011?e6*x^6 + 13556.5984560?*x^5 + 616.03768038?*x^4 + 296.193165412?*x^3 + 19.1452865298?*x^2 + 8.00122966013?*x + 0.7317953735413?\n",
      "3.031582899917?e6*x^6 + 13556.5984560?*x^5 + 616.03768038?*x^4 + 296.193165412?*x^3 + 19.1452865298?*x^2 + 8.00122966013?*x + 0.7317953735413?\n",
      "0.467999009395? 1.036222661693?\n"
     ]
    }
   ],
   "source": [
    "Q2y = Y - mycos(gamma)\n",
    "Q2y.print()"
   ]
  },
  {
   "cell_type": "code",
   "execution_count": 29,
   "metadata": {},
   "outputs": [
    {
     "name": "stdout",
     "output_type": "stream",
     "text": [
      "-9.07492210019?e6*x^6 - 14360.7596631?*x^5 + 754.07091327?*x^4 - 316.067455832?*x^3 + 13.9533786066?*x^2 - 9.60130315475?*x + 1.015649107825?\n",
      "1.094400840951?e7*x^6 - 14360.7596631?*x^5 + 754.07091327?*x^4 - 316.067455832?*x^3 + 13.9533786066?*x^2 - 9.60130315475?*x + 1.015649107825?\n",
      "0.685432838951? 1.379436789115?\n"
     ]
    }
   ],
   "source": [
    "dotprod = Sy - Q2y\n",
    "dotprod.print()"
   ]
  },
  {
   "cell_type": "code",
   "execution_count": 30,
   "metadata": {},
   "outputs": [
    {
     "name": "stdout",
     "output_type": "stream",
     "text": [
      "-1.34686805047?e7*x^6 + 2668.026164?*x^5 + 3112.1522475?*x^4 + 23.76135846?*x^3 + 50.560711606?*x^2 - 5.83713197706?*x + 1.444423084623?\n",
      "1.53757487611?e7*x^6 + 2668.026164?*x^5 + 3112.1522475?*x^4 + 23.76135846?*x^3 + 50.560711606?*x^2 - 5.83713197706?*x + 1.444423084623?\n",
      "1.282723022026? 1.721096289958?\n"
     ]
    }
   ],
   "source": [
    "SQ2 = mysqrt((Sx - Q2x) * (Sx - Q2x) + (Sy - Q2y) * (Sy - Q2y))\n",
    "SQ2.print()"
   ]
  },
  {
   "cell_type": "code",
   "execution_count": 31,
   "metadata": {},
   "outputs": [
    {
     "name": "stdout",
     "output_type": "stream",
     "text": [
      "-5.8134871253?e7*x^6 - 3330.19254?*x^5 + 131.840565?*x^4 + 183.79150485?*x^3 + 28.494741673?*x^2 + 7.3521788633?*x + 0.005577256879?\n",
      "3.2942886508?e7*x^6 - 3330.19254?*x^5 + 131.840565?*x^4 + 183.79150485?*x^3 + 28.494741673?*x^2 + 7.3521788633?*x + 0.005577256879?\n",
      "-16.884350185? 19.171555049?\n"
     ]
    }
   ],
   "source": [
    "diff = myacos(dotprod * myinv2(SQ2)) + E(2 * pi / 3) - E(2) * beta\n",
    "diff.print(inDegs=True)"
   ]
  },
  {
   "cell_type": "code",
   "execution_count": 32,
   "metadata": {},
   "outputs": [
    {
     "name": "stdout",
     "output_type": "stream",
     "text": [
      "75.56118541?*x^2 + 7.3521788633?*x + 0.005577256879?\n",
      "35.34695682753?*x^2 - 6.999603936817?*x - 0.0286351959258?\n"
     ]
    }
   ],
   "source": [
    "cond1 = reduceDegree(diff.p, 2)[1]\n",
    "# we know that diff = 0, so cond1 >= 0 should hold\n",
    "print(cond1)\n",
    "cond2 = reduceDegree((AQ1 - E(1)).p, 2)[1]\n",
    "# we know that AQ1 > 1, so cond2 >= 0 should hold\n",
    "print(cond2)"
   ]
  },
  {
   "cell_type": "code",
   "execution_count": 33,
   "metadata": {},
   "outputs": [
    {
     "name": "stdout",
     "output_type": "stream",
     "text": [
      "[x >= -0.000764593780?]\n",
      "[x <= -0.00400978052395?]\n"
     ]
    }
   ],
   "source": [
    "# solve p(x) >= 0, -maxx <= x <= maxx,\n",
    "# where p(x) = ax^2 + bx + c, a > 0\n",
    "def mysolve(p):\n",
    "    assert(p.degree(x) == 2)\n",
    "    a = p.coefficient(x, n=2)\n",
    "    assert(a > 0)\n",
    "    b = p.coefficient(x, n=1)\n",
    "    c = p.coefficient(x, n=0)\n",
    "    D2 = b ^ 2 - 4 * a * c\n",
    "    assert(D2 >= 0)\n",
    "    D = sqrt(D2)\n",
    "    roots = [(-b - D) / 2 / a, (-b + D) / 2 / a]\n",
    "    sols = []\n",
    "    if not(roots[0] <= -maxx):\n",
    "        sols.append(x <= roots[0])\n",
    "    if not(roots[1] >= maxx):\n",
    "        sols.append(x >= roots[1])\n",
    "    return sols\n",
    "\n",
    "# solve inequalities cond1 >= 0 and cond2 >= 0\n",
    "print(mysolve(cond1))\n",
    "print(mysolve(cond2))"
   ]
  },
  {
   "cell_type": "code",
   "execution_count": 34,
   "metadata": {},
   "outputs": [
    {
     "name": "stdout",
     "output_type": "stream",
     "text": [
      "[[-0.000764593779260685 <= x, x <= 0.0333333333333333]]\n",
      "[[-0.0333333333333333 <= x, x < -0.00400978052395026]]\n",
      "False\n"
     ]
    }
   ],
   "source": [
    "# solve the same inequalities using sympy solver\n",
    "print(solve([cond1 >= 0, -maxx <= x, x <= maxx], x, algorithm='sympy'))\n",
    "print(solve([cond2 > 0, -maxx <= x, x <= maxx], x, algorithm='sympy'))\n",
    "print(solve([cond1 >= 0, cond2 > 0, -maxx <= x, x <= maxx], x, algorithm='sympy'))"
   ]
  },
  {
   "cell_type": "code",
   "execution_count": null,
   "metadata": {},
   "outputs": [],
   "source": []
  }
 ],
 "metadata": {
  "kernelspec": {
   "display_name": "SageMath 9.0",
   "language": "sage",
   "name": "sagemath"
  },
  "language_info": {
   "codemirror_mode": {
    "name": "ipython",
    "version": 3
   },
   "file_extension": ".py",
   "mimetype": "text/x-python",
   "name": "python",
   "nbconvert_exporter": "python",
   "pygments_lexer": "ipython3",
   "version": "3.7.3"
  }
 },
 "nbformat": 4,
 "nbformat_minor": 2
}
