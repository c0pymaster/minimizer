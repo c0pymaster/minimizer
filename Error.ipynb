{
 "cells": [
  {
   "cell_type": "code",
   "execution_count": 1,
   "metadata": {},
   "outputs": [],
   "source": [
    "var('alpha beta x y t1 t2 r')\n",
    "\n",
    "def mySimplify(expr):\n",
    "    return expr.trig_simplify().trig_reduce().collect_common_factors().combine()\n",
    "\n",
    "def mySimplifyVector(v):\n",
    "    return vector([mySimplify(v[0]), mySimplify(v[1])])\n",
    "\n",
    "def showVector(v):\n",
    "    v[0].show()\n",
    "    v[1].show()"
   ]
  },
  {
   "cell_type": "code",
   "execution_count": 2,
   "metadata": {},
   "outputs": [],
   "source": [
    "W1 = vector([x + r * cos(alpha), r * sin(alpha)])\n",
    "W2 = vector([r * sin(beta), y + r * cos(beta)])"
   ]
  },
  {
   "cell_type": "code",
   "execution_count": 3,
   "metadata": {},
   "outputs": [],
   "source": [
    "dir1 = vector([cos(2 * alpha), sin(2 * alpha)])\n",
    "dir2 = vector([sin(2 * beta), cos(2 * beta)])"
   ]
  },
  {
   "cell_type": "code",
   "execution_count": 4,
   "metadata": {},
   "outputs": [
    {
     "data": {
      "text/html": [
       "<html><script type=\"math/tex; mode=display\">\\newcommand{\\Bold}[1]{\\mathbf{#1}}t_{1} \\cos\\left(2 \\, \\alpha\\right) + r \\cos\\left(\\alpha\\right) - t_{2} \\sin\\left(2 \\, \\beta\\right) - r \\sin\\left(\\beta\\right) + x</script></html>"
      ],
      "text/plain": [
       "t1*cos(2*alpha) + r*cos(alpha) - t2*sin(2*beta) - r*sin(beta) + x"
      ]
     },
     "metadata": {},
     "output_type": "display_data"
    },
    {
     "data": {
      "text/html": [
       "<html><script type=\"math/tex; mode=display\">\\newcommand{\\Bold}[1]{\\mathbf{#1}}-t_{2} \\cos\\left(2 \\, \\beta\\right) - r \\cos\\left(\\beta\\right) + t_{1} \\sin\\left(2 \\, \\alpha\\right) + r \\sin\\left(\\alpha\\right) - y</script></html>"
      ],
      "text/plain": [
       "-t2*cos(2*beta) - r*cos(beta) + t1*sin(2*alpha) + r*sin(alpha) - y"
      ]
     },
     "metadata": {},
     "output_type": "display_data"
    }
   ],
   "source": [
    "eq = W1 + t1 * dir1 - W2 - t2 * dir2\n",
    "showVector(eq)"
   ]
  },
  {
   "cell_type": "code",
   "execution_count": 5,
   "metadata": {},
   "outputs": [
    {
     "data": {
      "text/html": [
       "<html><script type=\"math/tex; mode=display\">\\newcommand{\\Bold}[1]{\\mathbf{#1}}-{\\left(r \\cos\\left(\\alpha + 2 \\, \\beta\\right) + x \\cos\\left(2 \\, \\beta\\right) + y \\sin\\left(2 \\, \\beta\\right) + r \\sin\\left(\\beta\\right)\\right)} \\sec\\left(2 \\, \\alpha + 2 \\, \\beta\\right)</script></html>"
      ],
      "text/plain": [
       "-(r*cos(alpha + 2*beta) + x*cos(2*beta) + y*sin(2*beta) + r*sin(beta))*sec(2*alpha + 2*beta)"
      ]
     },
     "metadata": {},
     "output_type": "display_data"
    },
    {
     "data": {
      "text/html": [
       "<html><script type=\"math/tex; mode=display\">\\newcommand{\\Bold}[1]{\\mathbf{#1}}-{\\left(y \\cos\\left(2 \\, \\alpha\\right) + r \\cos\\left(2 \\, \\alpha + \\beta\\right) + x \\sin\\left(2 \\, \\alpha\\right) + r \\sin\\left(\\alpha\\right)\\right)} \\sec\\left(2 \\, \\alpha + 2 \\, \\beta\\right)</script></html>"
      ],
      "text/plain": [
       "-(y*cos(2*alpha) + r*cos(2*alpha + beta) + x*sin(2*alpha) + r*sin(alpha))*sec(2*alpha + 2*beta)"
      ]
     },
     "metadata": {},
     "output_type": "display_data"
    }
   ],
   "source": [
    "# solve linear system eq = (0, 0)\n",
    "\n",
    "f = lambda x : mySimplify(x.rhs())\n",
    "l1, l2 = map(f, solve([eq[0], eq[1]], [t1, t2])[0])\n",
    "l1.show()\n",
    "l2.show()"
   ]
  },
  {
   "cell_type": "code",
   "execution_count": 6,
   "metadata": {},
   "outputs": [
    {
     "data": {
      "text/html": [
       "<html><script type=\"math/tex; mode=display\">\\newcommand{\\Bold}[1]{\\mathbf{#1}}-{\\left(r \\cos\\left(\\alpha + 2 \\, \\beta\\right) + x \\cos\\left(2 \\, \\beta\\right) + y \\sin\\left(2 \\, \\beta\\right) + r \\sin\\left(\\beta\\right)\\right)} \\cos\\left(2 \\, \\alpha\\right) \\sec\\left(2 \\, \\alpha + 2 \\, \\beta\\right) + r \\cos\\left(\\alpha\\right) + x</script></html>"
      ],
      "text/plain": [
       "-(r*cos(alpha + 2*beta) + x*cos(2*beta) + y*sin(2*beta) + r*sin(beta))*cos(2*alpha)*sec(2*alpha + 2*beta) + r*cos(alpha) + x"
      ]
     },
     "metadata": {},
     "output_type": "display_data"
    },
    {
     "data": {
      "text/html": [
       "<html><script type=\"math/tex; mode=display\">\\newcommand{\\Bold}[1]{\\mathbf{#1}}-{\\left(r \\cos\\left(\\alpha + 2 \\, \\beta\\right) + x \\cos\\left(2 \\, \\beta\\right) + y \\sin\\left(2 \\, \\beta\\right) + r \\sin\\left(\\beta\\right)\\right)} \\sec\\left(2 \\, \\alpha + 2 \\, \\beta\\right) \\sin\\left(2 \\, \\alpha\\right) + r \\sin\\left(\\alpha\\right)</script></html>"
      ],
      "text/plain": [
       "-(r*cos(alpha + 2*beta) + x*cos(2*beta) + y*sin(2*beta) + r*sin(beta))*sec(2*alpha + 2*beta)*sin(2*alpha) + r*sin(alpha)"
      ]
     },
     "metadata": {},
     "output_type": "display_data"
    }
   ],
   "source": [
    "V = W1 + l1 * dir1\n",
    "showVector(V)"
   ]
  },
  {
   "cell_type": "code",
   "execution_count": 7,
   "metadata": {},
   "outputs": [
    {
     "data": {
      "text/html": [
       "<html><script type=\"math/tex; mode=display\">\\newcommand{\\Bold}[1]{\\mathbf{#1}}\\frac{4 \\, y \\cos\\left(4 \\, \\beta\\right) + 4 \\, r \\cos\\left(3 \\, \\beta\\right) - 4 \\, r \\cos\\left(\\beta\\right) - r \\sin\\left(3 \\, \\alpha\\right) + r \\sin\\left(3 \\, \\alpha + 4 \\, \\beta\\right) - 3 \\, r \\sin\\left(\\alpha + 4 \\, \\beta\\right) + 3 \\, r \\sin\\left(\\alpha\\right) - 4 \\, x \\sin\\left(4 \\, \\beta\\right) - 4 \\, y}{2 \\, {\\left(\\cos\\left(4 \\, \\alpha + 4 \\, \\beta\\right) + 1\\right)}}</script></html>"
      ],
      "text/plain": [
       "1/2*(4*y*cos(4*beta) + 4*r*cos(3*beta) - 4*r*cos(beta) - r*sin(3*alpha) + r*sin(3*alpha + 4*beta) - 3*r*sin(alpha + 4*beta) + 3*r*sin(alpha) - 4*x*sin(4*beta) - 4*y)/(cos(4*alpha + 4*beta) + 1)"
      ]
     },
     "metadata": {},
     "output_type": "display_data"
    },
    {
     "data": {
      "text/html": [
       "<html><script type=\"math/tex; mode=display\">\\newcommand{\\Bold}[1]{\\mathbf{#1}}\\frac{r \\cos\\left(3 \\, \\alpha\\right) + r \\cos\\left(3 \\, \\alpha + 4 \\, \\beta\\right) - 3 \\, r \\cos\\left(\\alpha + 4 \\, \\beta\\right) - 3 \\, r \\cos\\left(\\alpha\\right) - 4 \\, x \\cos\\left(4 \\, \\beta\\right) - 4 \\, y \\sin\\left(4 \\, \\beta\\right) - 4 \\, r \\sin\\left(3 \\, \\beta\\right) + 4 \\, r \\sin\\left(\\beta\\right) - 4 \\, x}{2 \\, {\\left(\\cos\\left(4 \\, \\alpha + 4 \\, \\beta\\right) + 1\\right)}}</script></html>"
      ],
      "text/plain": [
       "1/2*(r*cos(3*alpha) + r*cos(3*alpha + 4*beta) - 3*r*cos(alpha + 4*beta) - 3*r*cos(alpha) - 4*x*cos(4*beta) - 4*y*sin(4*beta) - 4*r*sin(3*beta) + 4*r*sin(beta) - 4*x)/(cos(4*alpha + 4*beta) + 1)"
      ]
     },
     "metadata": {},
     "output_type": "display_data"
    }
   ],
   "source": [
    "derivative = mySimplifyVector(V.derivative(alpha))\n",
    "showVector(derivative)"
   ]
  },
  {
   "cell_type": "code",
   "execution_count": 8,
   "metadata": {},
   "outputs": [
    {
     "data": {
      "text/html": [
       "<html><script type=\"math/tex; mode=display\">\\newcommand{\\Bold}[1]{\\mathbf{#1}}-\\frac{r \\cos\\left(3 \\, \\alpha + 2 \\, \\beta\\right) - 3 \\, r \\cos\\left(\\alpha + 2 \\, \\beta\\right) - 4 \\, x \\cos\\left(2 \\, \\beta\\right) - 4 \\, y \\sin\\left(2 \\, \\beta\\right) - 4 \\, r \\sin\\left(\\beta\\right)}{\\cos\\left(4 \\, \\alpha + 4 \\, \\beta\\right) + 1}</script></html>"
      ],
      "text/plain": [
       "-(r*cos(3*alpha + 2*beta) - 3*r*cos(alpha + 2*beta) - 4*x*cos(2*beta) - 4*y*sin(2*beta) - 4*r*sin(beta))/(cos(4*alpha + 4*beta) + 1)"
      ]
     },
     "metadata": {},
     "output_type": "display_data"
    }
   ],
   "source": [
    "expr = 4 * cos(2 * beta) * x + 4 * sin(2 * beta) * y + 4 * sin(beta) * r\n",
    "expr += 3 * cos(alpha + 2 * beta) * r - cos(3 * alpha + 2 * beta) * r\n",
    "expr /= cos(4 * alpha + 4 * beta) + 1\n",
    "expr.show()"
   ]
  },
  {
   "cell_type": "code",
   "execution_count": 9,
   "metadata": {},
   "outputs": [
    {
     "data": {
      "text/html": [
       "<html><script type=\"math/tex; mode=display\">\\newcommand{\\Bold}[1]{\\mathbf{#1}}0</script></html>"
      ],
      "text/plain": [
       "0"
      ]
     },
     "metadata": {},
     "output_type": "display_data"
    }
   ],
   "source": [
    "diff = derivative[0] ^ 2 + derivative[1] ^ 2 - expr ^ 2\n",
    "diff = diff.trig_reduce().expand()\n",
    "diff.show()"
   ]
  },
  {
   "cell_type": "code",
   "execution_count": null,
   "metadata": {},
   "outputs": [],
   "source": []
  }
 ],
 "metadata": {
  "kernelspec": {
   "display_name": "SageMath 9.0",
   "language": "sage",
   "name": "sagemath"
  },
  "language_info": {
   "codemirror_mode": {
    "name": "ipython",
    "version": 3
   },
   "file_extension": ".py",
   "mimetype": "text/x-python",
   "name": "python",
   "nbconvert_exporter": "python",
   "pygments_lexer": "ipython3",
   "version": "3.7.3"
  }
 },
 "nbformat": 4,
 "nbformat_minor": 2
}
